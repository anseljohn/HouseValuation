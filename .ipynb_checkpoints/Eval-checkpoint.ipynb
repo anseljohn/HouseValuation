{
 "cells": [
  {
   "cell_type": "code",
   "execution_count": 1,
   "id": "e9b89427",
   "metadata": {},
   "outputs": [
    {
     "data": {
      "text/plain": [
       "GradientBoostingRegressor(loss='huber', max_depth=30, max_features=0.6,\n",
       "                          min_samples_leaf=6, min_samples_split=4,\n",
       "                          n_estimators=150)"
      ]
     },
     "execution_count": 1,
     "metadata": {},
     "output_type": "execute_result"
    }
   ],
   "source": [
    "import pandas as pd\n",
    "from sklearn.model_selection import train_test_split\n",
    "from sklearn import ensemble\n",
    "from sklearn.metrics import mean_absolute_error\n",
    "\n",
    "df = pd.read_csv('../data/Melbourne_housing_FULL.csv')\n",
    "\n",
    "# Stripping non-important features\n",
    "df.columns = df.columns.str.strip()\n",
    "scrubbed = ['Address','Method','SellerG','Date','Postcode','Lattitude','Longtitude','Regionname','Propertycount']\n",
    "for title in scrubbed:\n",
    "    del df[title]\n",
    "\n",
    "# Remove rows with emptiness\n",
    "df.dropna(axis=0,how='any',thresh=None,subset=None,inplace=True)\n",
    "\n",
    "# One-hot encoding\n",
    "df = pd.get_dummies(df,columns=['Suburb','CouncilArea','Type'])\n",
    "\n",
    "# Set independent and dependent vars\n",
    "X = df.drop('Price', axis=1)\n",
    "y = df['Price']\n",
    "\n",
    "# Shuffle and split training/testing data\n",
    "X_train, X_test, y_train, y_test = train_test_split(X,y,test_size=0.3,shuffle=True)\n",
    "\n",
    "# Create model\n",
    "model = ensemble.GradientBoostingRegressor(\n",
    "                                            n_estimators=150,\n",
    "                                            learning_rate=0.1,\n",
    "                                            max_depth=30,\n",
    "                                            min_samples_split=4,\n",
    "                                            min_samples_leaf=6,\n",
    "                                            max_features=0.6,\n",
    "                                            loss='huber'\n",
    "                                          )\n",
    "# Train model\n",
    "model.fit(X_train, y_train)"
   ]
  },
  {
   "cell_type": "code",
   "execution_count": 2,
   "id": "d890f101",
   "metadata": {},
   "outputs": [
    {
     "name": "stdout",
     "output_type": "stream",
     "text": [
      "TRAIN MAE: 26381.94\n",
      "TEST MAE: 169482.66\n"
     ]
    }
   ],
   "source": [
    "# First test\n",
    "mae_train = mean_absolute_error(y_train,model.predict(X_train))\n",
    "print(\"TRAIN MAE: %.2f\" % mae_train)\n",
    "\n",
    "mae_test = mean_absolute_error(y_test,model.predict(X_test))\n",
    "print(\"TEST MAE: %.2f\" % mae_test)"
   ]
  },
  {
   "cell_type": "code",
   "execution_count": 5,
   "id": "02409778",
   "metadata": {},
   "outputs": [
    {
     "data": {
      "text/plain": [
       "GradientBoostingRegressor(loss='huber', max_depth=5, max_features=0.6,\n",
       "                          min_samples_leaf=6, min_samples_split=4,\n",
       "                          n_estimators=250)"
      ]
     },
     "execution_count": 5,
     "metadata": {},
     "output_type": "execute_result"
    }
   ],
   "source": [
    "# Lower depth and increase tree count\n",
    "model = ensemble.GradientBoostingRegressor(\n",
    "                                            n_estimators=250,\n",
    "                                            learning_rate=0.1,\n",
    "                                            max_depth=5,\n",
    "                                            min_samples_split=4,\n",
    "                                            min_samples_leaf=6,\n",
    "                                            max_features=0.6,\n",
    "                                            loss='huber'\n",
    "                                          )\n",
    "model.fit(X_train, y_train)"
   ]
  },
  {
   "cell_type": "code",
   "execution_count": 6,
   "id": "11dc0598",
   "metadata": {},
   "outputs": [
    {
     "name": "stdout",
     "output_type": "stream",
     "text": [
      "TRAIN MAE: 120194.96\n",
      "TEST MAE: 163573.82\n"
     ]
    }
   ],
   "source": [
    "# Test new model\n",
    "mae_train = mean_absolute_error(y_train,model.predict(X_train))\n",
    "print(\"TRAIN MAE: %.2f\" % mae_train)\n",
    "\n",
    "mae_test = mean_absolute_error(y_test,model.predict(X_test))\n",
    "print(\"TEST MAE: %.2f\" % mae_test)"
   ]
  },
  {
   "cell_type": "code",
   "execution_count": null,
   "id": "4be5f9bd",
   "metadata": {},
   "outputs": [],
   "source": [
    "# Implement grid search\n",
    "from sklearn.model_selection import GridSearchCV\n",
    "\n",
    "model = ensemble.GradientBoostingRegressor()\n",
    "\n",
    "hyperparams = {\n",
    "    'n_estimators':[200,300],\n",
    "    'max_depth':[4,6],\n",
    "    'min_samples_split':[3,4],\n",
    "    'min_samples_leaf':[5,6],\n",
    "    'learning_rate':[0.01,0.02],\n",
    "    'max_features':[0.8,0.9],\n",
    "    'loss':['ls','lad','huber']\n",
    "}\n",
    "\n",
    "grid = GridSearchCV(model, hyperparams, n_jobs=4, verbose=10)\n",
    "grid.fit(X_train, y_train)\n",
    "grid.best_params_\n",
    "\n",
    "mae_train = mean_absolute_error(y_train,grid.predict(X_train))\n",
    "print(\"TRAIN MAE: %.2f\" % mae_train)\n",
    "\n",
    "mae_test = mean_absolute_error(y_test,grid.predict(X_test))\n",
    "print(\"TEST MAE: %.2f\" % mae_test)"
   ]
  },
  {
   "cell_type": "markdown",
   "id": "d52133ee",
   "metadata": {},
   "source": []
  }
 ],
 "metadata": {
  "kernelspec": {
   "display_name": "Python 3 (ipykernel)",
   "language": "python",
   "name": "python3"
  },
  "language_info": {
   "codemirror_mode": {
    "name": "ipython",
    "version": 3
   },
   "file_extension": ".py",
   "mimetype": "text/x-python",
   "name": "python",
   "nbconvert_exporter": "python",
   "pygments_lexer": "ipython3",
   "version": "3.8.8"
  }
 },
 "nbformat": 4,
 "nbformat_minor": 5
}
