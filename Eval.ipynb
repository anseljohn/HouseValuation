{
 "cells": [
  {
   "cell_type": "code",
   "execution_count": 25,
   "id": "a097eaf7",
   "metadata": {},
   "outputs": [
    {
     "name": "stdout",
     "output_type": "stream",
     "text": [
      "TRAIN MAE: 28608.99\n",
      "TEST MAE: 170113.84\n"
     ]
    }
   ],
   "source": [
    "import pandas as pd\n",
    "from sklearn.model_selection import train_test_split\n",
    "from sklearn import ensemble\n",
    "from sklearn.metrics import mean_absolute_error\n",
    "\n",
    "df = pd.read_csv('../data/Melbourne_housing_FULL.csv')\n",
    "\n",
    "df.columns = df.columns.str.strip()\n",
    "scrubbed = ['Address','Method','SellerG','Date','Postcode','Lattitude','Longtitude','Regionname','Propertycount']\n",
    "for title in scrubbed:\n",
    "    del df[title]\n",
    "\n",
    "df.dropna(axis=0,how='any',thresh=None,subset=None,inplace=True)\n",
    "df = pd.get_dummies(df,columns=['Suburb','CouncilArea','Type'])\n",
    "\n",
    "X = df.drop('Price', axis=1)\n",
    "y = df['Price']\n",
    "\n",
    "X_train, X_test, y_train, y_test = train_test_split(X,y,test_size=0.3,shuffle=True)\n",
    "\n",
    "model = ensemble.GradientBoostingRegressor(\n",
    "                                            n_estimators=150,\n",
    "                                            learning_rate=0.1,\n",
    "                                            max_depth=30,\n",
    "                                            min_samples_split=4,\n",
    "                                            min_samples_leaf=6,\n",
    "                                            max_features=0.6,\n",
    "                                            loss='huber'\n",
    "                                          )\n",
    "model.fit(X_train, y_train)\n",
    "\n",
    "mae_train = mean_absolute_error(y_train,model.predict(X_train))\n",
    "print(\"TRAIN MAE: %.2f\" % mae_train)\n",
    "\n",
    "mae_test = mean_absolute_error(y_test,model.predict(X_test))\n",
    "print(\"TEST MAE: %.2f\" % mae_test)"
   ]
  },
  {
   "cell_type": "code",
   "execution_count": null,
   "id": "2472ef34",
   "metadata": {},
   "outputs": [],
   "source": []
  }
 ],
 "metadata": {
  "kernelspec": {
   "display_name": "Python 3",
   "language": "python",
   "name": "python3"
  },
  "language_info": {
   "codemirror_mode": {
    "name": "ipython",
    "version": 3
   },
   "file_extension": ".py",
   "mimetype": "text/x-python",
   "name": "python",
   "nbconvert_exporter": "python",
   "pygments_lexer": "ipython3",
   "version": "3.8.8"
  }
 },
 "nbformat": 4,
 "nbformat_minor": 5
}
