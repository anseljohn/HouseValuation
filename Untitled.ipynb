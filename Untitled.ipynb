{
 "cells": [
  {
   "cell_type": "code",
   "execution_count": 1,
   "id": "228f65e4",
   "metadata": {},
   "outputs": [
    {
     "data": {
      "text/plain": [
       "Suburb                         Airport West\n",
       "Address                        180 Parer Rd\n",
       "Rooms                                     3\n",
       "Type                                      h\n",
       "Price                              830000.0\n",
       "Method                                    S\n",
       "SellerG                               Barry\n",
       "Date                             16/04/2016\n",
       "Distance                               13.5\n",
       "Postcode                             3042.0\n",
       "Bedroom2                                3.0\n",
       "Bathroom                                1.0\n",
       "Car                                     2.0\n",
       "Landsize                              971.0\n",
       "BuildingArea                          113.0\n",
       "YearBuilt                            1960.0\n",
       "CouncilArea      Moonee Valley City Council\n",
       "Lattitude                          -37.7186\n",
       "Longtitude                          144.876\n",
       "Regionname             Western Metropolitan\n",
       "Propertycount                        3464.0\n",
       "Name: 100, dtype: object"
      ]
     },
     "execution_count": 1,
     "metadata": {},
     "output_type": "execute_result"
    }
   ],
   "source": [
    "import pandas as pd\n",
    "from sklearn.model_selection import train_test_split\n",
    "from sklearn import ensemble\n",
    "from sklearn.metrics import mean_absolute_error\n",
    "\n",
    "df = pd.read_csv('./../data/Melbourne_housing_FULL.csv')\n",
    "\n",
    "df.iloc[100]\n",
    "\n"
   ]
  },
  {
   "cell_type": "code",
   "execution_count": null,
   "id": "f4d5f5a4",
   "metadata": {},
   "outputs": [],
   "source": []
  }
 ],
 "metadata": {
  "kernelspec": {
   "display_name": "Python 3",
   "language": "python",
   "name": "python3"
  },
  "language_info": {
   "codemirror_mode": {
    "name": "ipython",
    "version": 3
   },
   "file_extension": ".py",
   "mimetype": "text/x-python",
   "name": "python",
   "nbconvert_exporter": "python",
   "pygments_lexer": "ipython3",
   "version": "3.8.8"
  }
 },
 "nbformat": 4,
 "nbformat_minor": 5
}
